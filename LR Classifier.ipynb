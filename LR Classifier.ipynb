{
 "cells": [
  {
   "cell_type": "markdown",
   "metadata": {},
   "source": [
    "## Logistic Regression Classifier\n",
    "\n",
    "This notebook performs Logistic Regression model on a categorical dataset student.csv\n"
   ]
  },
  {
   "cell_type": "code",
   "execution_count": null,
   "metadata": {},
   "outputs": [],
   "source": [
    "import pandas as pd\n",
    "from sklearn import preprocessing\n",
    "import numpy as np\n",
    "from sklearn import metrics \n",
    "from sklearn.linear_model import LogisticRegression\n",
    "from sklearn.model_selection import train_test_split\n",
    "\n",
    "def LRmodel(file):\n",
    "    # importing csv into usable format\n",
    "    dataset = pd.read_csv(file)\n",
    "    \n",
    "    # assigning labels to attribute values as it's categorical\n",
    "    label_encoder = preprocessing.LabelEncoder()\n",
    "    for attribute in dataset:\n",
    "        dataset[attribute] = label_encoder.fit_transform(dataset[attribute])  \n",
    "    # incrementing each value by 1 to eliminate 0 values\n",
    "    dataset = dataset + 1\n",
    "    \n",
    "    # separating features(feat) and labels(lab)\n",
    "    feat = dataset.drop('Grade',axis = 1)\n",
    "    lab = dataset.Grade\n",
    "    \n",
    "    # splitting dataset into train and test data of 70% and 30% respectively\n",
    "    feat_train, feat_test, lab_train, lab_test = train_test_split(feat, lab, test_size = 0.3)\n",
    "    \n",
    "    # using Logistic Regression model and training the model\n",
    "    logistic_regression = LogisticRegression()\n",
    "    logistic_regression.fit(feat_train, lab_train)\n",
    "    \n",
    "    # predicting testing data\n",
    "    lab_pred = logistic_regression.predict(feat_test)\n",
    "    \n",
    "    # measuring accuracy by comparing actual labels with predicted labels\n",
    "    accuracy = metrics.accuracy_score(lab_test, lab_pred)\n",
    "    accuracy_percentage = 100 * accuracy\n",
    "    \n",
    "    return accuracy_percentage\n",
    "\n",
    "accuracy = LRmodel('student.csv')\n",
    "# print(accuracy)"
   ]
  },
  {
   "cell_type": "code",
   "execution_count": null,
   "metadata": {},
   "outputs": [],
   "source": []
  }
 ],
 "metadata": {
  "kernelspec": {
   "display_name": "Python 3",
   "language": "python",
   "name": "python3"
  },
  "language_info": {
   "codemirror_mode": {
    "name": "ipython",
    "version": 3
   },
   "file_extension": ".py",
   "mimetype": "text/x-python",
   "name": "python",
   "nbconvert_exporter": "python",
   "pygments_lexer": "ipython3",
   "version": "3.8.2"
  }
 },
 "nbformat": 4,
 "nbformat_minor": 4
}
